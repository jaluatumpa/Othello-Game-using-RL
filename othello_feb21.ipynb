{
 "cells": [
  {
   "cell_type": "code",
   "execution_count": null,
   "id": "534ffdd6",
   "metadata": {
    "id": "534ffdd6"
   },
   "outputs": [],
   "source": [
    "# # !pip install tf-nightly\n",
    "# !pip install --upgrade tensorflow\n",
    "\n",
    "# !pip install tensorflow-macos==2.15.0"
   ]
  },
  {
   "cell_type": "code",
   "execution_count": null,
   "id": "2ea1d9a6",
   "metadata": {
    "id": "2ea1d9a6"
   },
   "outputs": [],
   "source": [
    "# pip list\n"
   ]
  },
  {
   "cell_type": "code",
   "execution_count": null,
   "id": "56759701",
   "metadata": {
    "id": "56759701"
   },
   "outputs": [],
   "source": [
    "# pip install tensorflow\n"
   ]
  },
  {
   "cell_type": "code",
   "execution_count": 16,
   "id": "39bca6a1",
   "metadata": {
    "id": "39bca6a1"
   },
   "outputs": [],
   "source": [
    "import numpy as np\n",
    "import pandas as pd\n",
    "import matplotlib.pyplot as plt\n",
    "import tensorflow as tf\n",
    "from tensorflow import keras\n",
    "from tensorflow.keras.models import Sequential\n",
    "from tensorflow.keras.layers import Dense, Flatten\n",
    "from keras.optimizers import Adam\n",
    "import random\n",
    "import os\n",
    "import math\n",
    "import copy\n",
    "import tensorflow as tf\n",
    "import numpy as np\n",
    "import random\n",
    "import copy\n",
    "import pickle\n",
    "import re\n",
    "import pandas as pd\n",
    "from keras.models import Sequential\n",
    "from keras.layers import Dense\n",
    "import keras.optimizers\n",
    "tf.keras.utils.disable_interactive_logging()"
   ]
  },
  {
   "cell_type": "code",
   "execution_count": 17,
   "id": "968aae84",
   "metadata": {
    "id": "968aae84"
   },
   "outputs": [],
   "source": [
    "\n",
    "class Board:\n",
    "    def __init__(self, player1, player2, n=6):\n",
    "        self.n = n\n",
    "        self.board = [[0] * n for _ in range(n)]\n",
    "        self.current_play = 1\n",
    "        self.reset()\n",
    "        self.player1 = player1\n",
    "        self.player2 = player2\n",
    "        self.done = False\n",
    "        self.directions = [(-1, -1), (-1, 0), (-1, 1), (0, -1), (0, 1), (1, -1), (1, 0), (1, 1)]\n",
    "\n",
    "    def reset(self):\n",
    "        n = self.n\n",
    "        self.board = [[0] * n for _ in range(n)]\n",
    "        self.current_play = 1\n",
    "        if n % 2 == 0:\n",
    "            mid = n // 2\n",
    "            self.board[mid - 1][mid - 1] = 1\n",
    "            self.board[mid][mid] = 1\n",
    "            self.board[mid - 1][mid] = -1\n",
    "            self.board[mid][mid- 1] = -1\n",
    "\n",
    "    def get_board_state(self):\n",
    "        return self.board\n",
    "\n",
    "    def count_diff(self, color):\n",
    "        count = 0\n",
    "        for j in range(self.n):\n",
    "            for i in range(self.n):\n",
    "                if self.board[i][j] == color:\n",
    "                    count += 1\n",
    "                if self.board[i][j] == -color:\n",
    "                    count -= 1\n",
    "        return count\n",
    "\n",
    "    def get_legal_moves(self, color):\n",
    "        moves = set()\n",
    "        for j in range(self.n):\n",
    "            for i in range(self.n):\n",
    "                if self.board[i][j] == color:\n",
    "                    new_moves = self.get_moves_for_square((i, j))\n",
    "                    moves.update(new_moves)\n",
    "        return list(moves)\n",
    "\n",
    "    def has_legal_moves(self, color):\n",
    "        for j in range(self.n):\n",
    "            for i in range(self.n):\n",
    "                if self.board[i][j] == color:\n",
    "                    new_moves = self.get_moves_for_square((i, j))\n",
    "                    if len(new_moves) > 0:\n",
    "                        return True\n",
    "        return False\n",
    "\n",
    "    def get_moves_for_square(self, square):\n",
    "        (i, j) = square\n",
    "        color = self.board[i][j]\n",
    "        if color == 0:\n",
    "            return None\n",
    "        moves = []\n",
    "        for direction in self.directions:\n",
    "            move = self._discover_move(square, direction)\n",
    "            if move:\n",
    "                moves.append(move)\n",
    "        return moves\n",
    "\n",
    "    def execute_move(self, move, color):\n",
    "        flips = []\n",
    "        for direction in self.directions:\n",
    "            flip = self._get_flips(move, direction, color)\n",
    "            flips.extend(flip)\n",
    "\n",
    "        if flips:\n",
    "            for i, j in flips:\n",
    "                self.board[i][j] = color\n",
    "        else:\n",
    "            raise Exception(\"Invalid move\")\n",
    "        row, col = move\n",
    "        self.board[row][col] = color\n",
    "        self.current_play = -1 if self.current_play == 1 else 1\n",
    "\n",
    "    def _discover_move(self, origin, direction):\n",
    "        i, j = origin\n",
    "        color = self.board[i][j]\n",
    "        flips = []\n",
    "        for new_i, new_j in self._increment_move(origin, direction, self.n):\n",
    "            if self.board[new_i][new_j] == 0:\n",
    "                if flips:\n",
    "                    return (new_i, new_j)\n",
    "                else:\n",
    "                    return None\n",
    "            elif self.board[new_i][new_j] == color:\n",
    "                return None\n",
    "            elif self.board[new_i][new_j] == -color:\n",
    "                flips.append((new_i, new_j))\n",
    "        return None\n",
    "\n",
    "    def _get_flips(self, origin, direction, color):\n",
    "        flips = []\n",
    "        for i, j in self._increment_move(origin, direction, self.n):\n",
    "            if self.board[i][j] == 0:\n",
    "                return []\n",
    "            if self.board[i][j] == -color:\n",
    "                flips.append((i, j))\n",
    "            elif self.board[i][j] == color and len(flips) > 0:\n",
    "                return flips\n",
    "        return []\n",
    "\n",
    "    def _increment_move(self, move, direction, n):\n",
    "        move = tuple(move)[:2]  # Convert to tuple if it's a list\n",
    "        i, j = move\n",
    "        move = (i + direction[0], j + direction[1])\n",
    "        while 0 <= move[0] < n and 0 <= move[1] < n:\n",
    "            yield move\n",
    "            move = (move[0] + direction[0], move[1] + direction[1])\n",
    "\n",
    "    def get_reward(self):\n",
    "        player1_score = self.count_diff(1)\n",
    "        player2_score = self.count_diff(-1)\n",
    "        if player1_score > player2_score:\n",
    "            self.player1.feedReward(1)\n",
    "            self.player2.feedReward(-1)\n",
    "            \n",
    "        elif player1_score < player2_score:\n",
    "            self.player1.feedReward(-1)\n",
    "            self.player2.feedReward(1)\n",
    "            \n",
    "        else:\n",
    "            self.player1.feedReward(0)\n",
    "            self.player2.feedReward(0)\n",
    "\n",
    "\n",
    "    def game_over(self):\n",
    "        return not self.has_legal_moves(1) and not self.has_legal_moves(-1)\n",
    "\n",
    "    def play(self, rounds=200,inner_rounds=10):\n",
    "        results = []\n",
    "        for i in range(rounds):\n",
    "            self.reset()\n",
    "            current_player = self.player1 if self.current_play == 1 else self.player2\n",
    "            if i % 100 == 0:\n",
    "                print(\"Rounds {}\".format(i))\n",
    "            if i % 10 == 0:\n",
    "                self.player1.setEps(rounds, i)\n",
    "                self.player2.setEps(rounds, i)\n",
    "            while True:\n",
    "#                 self.print_board()\n",
    "                positions = self.has_legal_moves(current_player.color)\n",
    "                if positions:\n",
    "                    p_move = current_player.choose_action(self)\n",
    "                    self.execute_move(p_move, current_player.color)\n",
    "                    current_player.addState(self.get_board_state())\n",
    "                    state_after = copy.deepcopy(self.get_board_state())\n",
    "                    current_player.addState(state_after)\n",
    "                    if self.game_over():\n",
    "#                         self.print_board()\n",
    "                        winner = self.get_reward()\n",
    "                        if winner == 1:\n",
    "                            results.append(1)\n",
    "#                             return 1\n",
    "#\n",
    "                        elif winner == -1:\n",
    "                            results.append(-1)\n",
    "#                             print(\"player2 win\")\n",
    "#                             return -1\n",
    "\n",
    "                        else:\n",
    "                            results.append(0)\n",
    "#                             print(\"draw\")\n",
    "#                             return 0\n",
    "\n",
    "                        self.player1.reset()\n",
    "                        self.player2.reset()\n",
    "                        self.reset()\n",
    "                        break\n",
    "                    current_player = self.player2 if current_player == self.player1 else self.player1\n",
    "                else:\n",
    "                    current_player = self.player2 if current_player == self.player1 else self.player1\n",
    "                    if not (self.has_legal_moves(self.player1.color) or self.has_legal_moves(self.player2.color)):\n",
    "#                         results.append(\"Draw\")\n",
    "                        results.append(0)\n",
    "                        break\n",
    "            \n",
    "        return results\n",
    "\n",
    "    def play2(self, rounds):\n",
    "        for i in range(rounds):\n",
    "            self.reset()\n",
    "            current_player = self.player1 if self.current_play == 1 else self.player2\n",
    "            while True:\n",
    "                positions = self.has_legal_moves(current_player.color)\n",
    "                if positions:\n",
    "                    p_move = current_player.choose_action(self)\n",
    "                    self.execute_move(p_move, current_player.color)\n",
    "                    if self.game_over():\n",
    "                        winner = self.get_reward()\n",
    "                        if winner == 1:\n",
    "                            return 1\n",
    "                        elif winner == -1:\n",
    "                            return -1\n",
    "                        else:\n",
    "                            return 0\n",
    "                        break\n",
    "                    current_player = self.player2 if current_player == self.player1 else self.player1\n",
    "                else:\n",
    "                    current_player = self.player2 if current_player == self.player1 else self.player1\n",
    "                    if not (self.has_legal_moves(self.player1.color) or self.has_legal_moves(self.player2.color)):\n",
    "                        break\n",
    "        return\n",
    "\n",
    "    def NNPlay(self, rounds=500, inner_rounds=10,name_exp= None):\n",
    "        train_batches = int(rounds/inner_rounds) + 1\n",
    "        for i in range(train_batches):\n",
    "            self.play(inner_rounds)\n",
    "            self.player1.sVNNtrain()\n",
    "            self.player2.sVNNtrain()\n",
    "\n",
    "        \n",
    "    def print_board(self):\n",
    "        for i in range(self.n):\n",
    "            print('.........................')\n",
    "            print('|', end=' ')\n",
    "            for j in range(self.n):\n",
    "                if self.board[i][j] == 1:\n",
    "                    print('B', end=' ')\n",
    "                elif self.board[i][j] == -1:\n",
    "                    print('W', end=' ')\n",
    "                else:\n",
    "                    print(' ', end=' ')\n",
    "                print('|', end=' ')\n",
    "            print()\n",
    "        print('...........................')\n",
    "\n"
   ]
  },
  {
   "cell_type": "code",
   "execution_count": 18,
   "id": "b986e968",
   "metadata": {
    "id": "b986e968"
   },
   "outputs": [],
   "source": [
    "\n",
    "class DQNAgent:\n",
    "\n",
    "    def __init__(self, color, n=6, eps_decay=False, start_exp_rate=0.2, end_exp_rate=0.02):\n",
    "        self.n = n\n",
    "        self.color = color\n",
    "        self.states = []\n",
    "        self.lr = 1.0\n",
    "        self.exp_rate = start_exp_rate\n",
    "        self.decay_gamma = 0.9\n",
    "        self.states_value = {}\n",
    "        self.eps_decay = eps_decay\n",
    "        self.start_exp_rate = start_exp_rate\n",
    "        self.end_exp_rate = end_exp_rate\n",
    "        self.state_value_model = self.neural_network()\n",
    "\n",
    "    def neural_network(self):\n",
    "        model = keras.models.Sequential()\n",
    "        model.add(Dense(units=36, input_dim=self.n * self.n, activation='relu'))\n",
    "        model.add(Dense(18, activation='relu'))\n",
    "        model.add(Dense(9, activation='relu'))\n",
    "        model.add(Dense(1, activation='linear'))\n",
    "        optimizer = tf.keras.optimizers.legacy.Adam(learning_rate=0.001)\n",
    "        model.compile(loss='mean_squared_error', optimizer=optimizer)\n",
    "        return model\n",
    "\n",
    "    def get_hash(self, board):\n",
    "        state_old = board.get_board_state()\n",
    "\n",
    "        return np.array(state_old).flatten()\n",
    "\n",
    "    def sNvalue(self, board):\n",
    "        state_val = self.get_hash(board)\n",
    "        state_val = state_val.reshape((1, self.n * self.n))\n",
    "        pred = self.state_value_model.predict(state_val)[0]\n",
    "        return pred\n",
    "\n",
    "    def savemodel(self,path):\n",
    "        self.state_value_model.save(path)\n",
    "\n",
    "    def loadSVNNmodel(self, path):\n",
    "\n",
    "        self.state_value_model = keras.models.load_model(path)\n",
    "\n",
    "    def setEps(self, total_games, current_game):\n",
    "        if self.eps_decay == False:\n",
    "            return\n",
    "        else:\n",
    "            self.exp_rate = self.start_exp_rate * (1. - current_game/total_games) + self.end_exp_rate * (current_game/total_games)\n",
    "            if np.mod(current_game, 100) == 0:\n",
    "                print('decay rate modified at {} with current value of {}'.format(str(current_game), str(self.exp_rate)))\n",
    "        return\n",
    "\n",
    "    def choose_action(self, board):\n",
    "        legal_moves = board.get_legal_moves(self.color)\n",
    "        if np.random.uniform(0,1) < self.exp_rate:\n",
    "            action_index = np.random.choice(len(legal_moves))\n",
    "            selected_action = legal_moves[action_index]\n",
    "            return selected_action\n",
    "        else:\n",
    "            value_max = -999\n",
    "            best_action = None\n",
    "            for p in legal_moves:\n",
    "                next_board = copy.deepcopy(board)\n",
    "                next_board.execute_move(p, self.color)\n",
    "                next_state_hash = self.get_hash(next_board)\n",
    "                pred = self.sNvalue(next_board)\n",
    "                if pred >= value_max:\n",
    "                    value_max = pred\n",
    "                    best_action = p\n",
    "            return best_action\n",
    "\n",
    "    def getbuffer(self):\n",
    "        data = self.states_value\n",
    "        ll = []\n",
    "        for k in data.keys():\n",
    "            k_str = str(k)\n",
    "            yy = re.findall(r'[-/+]?\\d+\\.*\\d*', k_str)\n",
    "            zz = data.get(k)\n",
    "            yy.append(zz)\n",
    "            ll.append(yy)\n",
    "        lldf = pd.DataFrame(ll)\n",
    "        cols = ['x'+str(i) for i in range(self.n*self.n)]\n",
    "        cols.append('val')\n",
    "        lldf.columns = cols\n",
    "        lldf.to_csv('Buffer1.csv', index=False)\n",
    "        return\n",
    "\n",
    "    def sVNNtrain(self, Xin=None, Yin=None):\n",
    "        self.getbuffer()\n",
    "        df = pd.read_csv('Buffer1.csv')\n",
    "        print ('length of buffer is', len(df))\n",
    "        traincols=['x' + str(i) for i in range(self.n*self.n)]\n",
    "        testcol = 'val'\n",
    "        if Xin is None:\n",
    "            Xin = df[traincols]\n",
    "\n",
    "            Yin = df[testcol]\n",
    "        self.state_value_model.fit(Xin, Yin, epochs=10, verbose=False)\n",
    "        self.states_value = {}\n",
    "        return\n",
    "    def addState(self, state):\n",
    "        state_tuple = tuple(map(tuple, state))\n",
    "        self.states.append(state_tuple)\n",
    "\n",
    "    def feedReward(self, reward):\n",
    "        for st in reversed(self.states):\n",
    "            if self.states_value.get(st) is None:\n",
    "                self.states_value[st] = 0\n",
    "            self.states_value[st] += self.lr * (self.decay_gamma * reward - self.states_value[st])\n",
    "            reward = self.states_value[st]\n",
    "\n",
    "\n",
    "\n",
    "    def reset(self):\n",
    "        self.states = []\n"
   ]
  },
  {
   "cell_type": "code",
   "execution_count": 19,
   "id": "e32b051b",
   "metadata": {
    "id": "e32b051b"
   },
   "outputs": [],
   "source": [
    "class RandomPlayer:\n",
    "    def __init__(self, color, name):\n",
    "        self.color = color\n",
    "        self.name = name\n",
    "\n",
    "    def choose_action(self, board):\n",
    "        legal_moves = board.get_legal_moves(self.color)\n",
    "        if legal_moves:\n",
    "            return random.choice(legal_moves)\n",
    "        return None\n",
    "\n",
    "    def addState(self, state, action, reward, next_state, done):\n",
    "        pass\n",
    "\n",
    "    def feedReward(self, minibatch):\n",
    "        pass\n",
    "\n",
    "    def reset(self):\n",
    "        pass\n"
   ]
  },
  {
   "cell_type": "code",
   "execution_count": 20,
   "id": "1c4ef17b",
   "metadata": {
    "colab": {
     "base_uri": "https://localhost:8080/"
    },
    "id": "1c4ef17b",
    "outputId": "9e9c4f80-9bf0-41ea-825a-c187faabf47e"
   },
   "outputs": [
    {
     "name": "stdout",
     "output_type": "stream",
     "text": [
      "0.2 0.2\n"
     ]
    }
   ],
   "source": [
    "player1 = DQNAgent(1,n=6,eps_decay=False, start_exp_rate=0.2, end_exp_rate=0.02)\n",
    "player2 = DQNAgent(-1,n=6,eps_decay=False, start_exp_rate=0.2, end_exp_rate=0.02)\n",
    "\n",
    "print(player1.exp_rate,player2.exp_rate)"
   ]
  },
  {
   "cell_type": "code",
   "execution_count": 25,
   "id": "ec9ca3a3",
   "metadata": {
    "colab": {
     "base_uri": "https://localhost:8080/"
    },
    "id": "ec9ca3a3",
    "outputId": "2b5446ca-1c5f-4ff9-b5d0-fa7b36ac1104"
   },
   "outputs": [
    {
     "name": "stdout",
     "output_type": "stream",
     "text": [
      "Rounds 0\n",
      "Round 0 in the batch of 10 games: Player 1 wins 7, Player 2 wins 3, Draws 0\n",
      "Rounds 0\n",
      "Round 1 in the batch of 10 games: Player 1 wins 7, Player 2 wins 2, Draws 1\n",
      "Rounds 0\n",
      "Round 2 in the batch of 10 games: Player 1 wins 6, Player 2 wins 3, Draws 1\n",
      "Rounds 0\n",
      "Round 3 in the batch of 10 games: Player 1 wins 5, Player 2 wins 4, Draws 1\n",
      "Rounds 0\n",
      "Round 4 in the batch of 10 games: Player 1 wins 6, Player 2 wins 4, Draws 0\n",
      "Rounds 0\n",
      "Round 5 in the batch of 10 games: Player 1 wins 7, Player 2 wins 3, Draws 0\n",
      "Rounds 0\n",
      "Round 6 in the batch of 10 games: Player 1 wins 7, Player 2 wins 3, Draws 0\n",
      "Rounds 0\n",
      "Round 7 in the batch of 10 games: Player 1 wins 5, Player 2 wins 5, Draws 0\n",
      "Rounds 0\n",
      "Round 8 in the batch of 10 games: Player 1 wins 6, Player 2 wins 4, Draws 0\n",
      "Rounds 0\n",
      "Round 9 in the batch of 10 games: Player 1 wins 7, Player 2 wins 3, Draws 0\n"
     ]
    }
   ],
   "source": [
    "board=Board(player1,player2,n=6)\n",
    "rounds = 1000\n",
    "for i in range(10):\n",
    "    result = board.play(rounds)\n",
    "    player1_wins = result.count(1)\n",
    "    player2_wins = result.count(-1)\n",
    "    draws = result.count(0)\n",
    "    \n",
    "    player1_win_percentage = (player1_wins / rounds) * 100\n",
    "    player2_win_percentage = (player2_wins / rounds) * 100\n",
    "    draw_percentage = (draws / rounds) * 100\n",
    "    \n",
    "    print(\"Round {} in the batch of 1000 games: Player 1 wins {:.2f}%, Player 2 wins {:.2f}%, Draws {:.2f}%\".format(\n",
    "        i,\n",
    "        player1_win_percentage,\n",
    "        player2_win_percentage,\n",
    "        draw_percentage\n",
    "    ))\n"
   ]
  },
  {
   "cell_type": "code",
   "execution_count": 29,
   "id": "aKRiZEdulxvQ",
   "metadata": {
    "id": "aKRiZEdulxvQ"
   },
   "outputs": [],
   "source": [
    "player5 = DQNAgent(1, n=6, eps_decay=False, start_exp_rate=1, end_exp_rate=0)\n",
    "\n",
    "player6 = DQNAgent(-1, n=6, eps_decay=False, start_exp_rate=0, end_exp_rate=0)\n"
   ]
  },
  {
   "cell_type": "code",
   "execution_count": 30,
   "id": "HwApCcuh5Tgb",
   "metadata": {
    "colab": {
     "base_uri": "https://localhost:8080/"
    },
    "id": "HwApCcuh5Tgb",
    "outputId": "db0d3c63-bdde-4979-df2a-09b12c87cd70"
   },
   "outputs": [
    {
     "name": "stdout",
     "output_type": "stream",
     "text": [
      "Rounds 0\n",
      "Round 0 in the batch of 10 games: Player 1 wins 5, Player 2 wins 5, Draws 0\n",
      "Rounds 0\n",
      "Round 1 in the batch of 10 games: Player 1 wins 7, Player 2 wins 1, Draws 2\n",
      "Rounds 0\n",
      "Round 2 in the batch of 10 games: Player 1 wins 6, Player 2 wins 4, Draws 0\n",
      "Rounds 0\n",
      "Round 3 in the batch of 10 games: Player 1 wins 4, Player 2 wins 6, Draws 0\n",
      "Rounds 0\n",
      "Round 4 in the batch of 10 games: Player 1 wins 4, Player 2 wins 6, Draws 0\n",
      "Rounds 0\n",
      "Round 5 in the batch of 10 games: Player 1 wins 2, Player 2 wins 8, Draws 0\n",
      "Rounds 0\n",
      "Round 6 in the batch of 10 games: Player 1 wins 5, Player 2 wins 4, Draws 1\n",
      "Rounds 0\n",
      "Round 7 in the batch of 10 games: Player 1 wins 7, Player 2 wins 3, Draws 0\n",
      "Rounds 0\n",
      "Round 8 in the batch of 10 games: Player 1 wins 6, Player 2 wins 3, Draws 1\n",
      "Rounds 0\n",
      "Round 9 in the batch of 10 games: Player 1 wins 3, Player 2 wins 6, Draws 1\n"
     ]
    }
   ],
   "source": [
    "board = Board(player5, player6, n=6)\n",
    "rounds = 1000\n",
    "for i in range(10):\n",
    "    result = board.play(rounds)\n",
    "    player1_wins = result.count(1)\n",
    "    player2_wins = result.count(-1)\n",
    "    draws = result.count(0)\n",
    "    \n",
    "    player1_win_percentage = (player1_wins / rounds) * 100\n",
    "    player2_win_percentage = (player2_wins / rounds) * 100\n",
    "    draw_percentage = (draws / rounds) * 100\n",
    "    \n",
    "    print(\"Round {} in the batch of 1000 games: Player 1 wins {:.2f}%, Player 2 wins {:.2f}%, Draws {:.2f}%\".format(\n",
    "        i,\n",
    "        player1_win_percentage,\n",
    "        player2_win_percentage,\n",
    "        draw_percentage\n",
    "    ))\n"
   ]
  },
  {
   "cell_type": "code",
   "execution_count": 31,
   "id": "f7bb23cb",
   "metadata": {
    "colab": {
     "base_uri": "https://localhost:8080/"
    },
    "id": "f7bb23cb",
    "outputId": "02cf3d67-f05c-4aea-979e-454377cce7eb"
   },
   "outputs": [
    {
     "name": "stdout",
     "output_type": "stream",
     "text": [
      "Rounds 0\n",
      "length of buffer is 1500\n",
      "length of buffer is 1465\n",
      "Rounds 0\n",
      "length of buffer is 149\n",
      "length of buffer is 151\n",
      "Rounds 0\n",
      "length of buffer is 151\n",
      "length of buffer is 149\n",
      "Rounds 0\n",
      "length of buffer is 153\n",
      "length of buffer is 148\n",
      "Rounds 0\n",
      "length of buffer is 159\n",
      "length of buffer is 143\n",
      "Rounds 0\n",
      "length of buffer is 155\n",
      "length of buffer is 149\n",
      "Rounds 0\n",
      "length of buffer is 154\n",
      "length of buffer is 150\n",
      "Rounds 0\n",
      "length of buffer is 150\n",
      "length of buffer is 156\n",
      "Rounds 0\n",
      "length of buffer is 150\n",
      "length of buffer is 155\n",
      "Rounds 0\n",
      "length of buffer is 151\n",
      "length of buffer is 148\n",
      "Rounds 0\n",
      "length of buffer is 150\n",
      "length of buffer is 151\n",
      "Rounds 0\n",
      "length of buffer is 147\n",
      "length of buffer is 152\n",
      "Rounds 0\n",
      "length of buffer is 152\n",
      "length of buffer is 148\n",
      "Rounds 0\n",
      "length of buffer is 150\n",
      "length of buffer is 148\n",
      "Rounds 0\n",
      "length of buffer is 150\n",
      "length of buffer is 152\n",
      "Rounds 0\n",
      "length of buffer is 151\n",
      "length of buffer is 151\n",
      "Rounds 0\n",
      "length of buffer is 152\n",
      "length of buffer is 147\n",
      "Rounds 0\n",
      "length of buffer is 147\n",
      "length of buffer is 149\n",
      "Rounds 0\n",
      "length of buffer is 151\n",
      "length of buffer is 152\n",
      "Rounds 0\n",
      "length of buffer is 151\n",
      "length of buffer is 150\n",
      "Rounds 0\n",
      "length of buffer is 144\n",
      "length of buffer is 145\n"
     ]
    }
   ],
   "source": [
    "board.NNPlay(2000)"
   ]
  },
  {
   "cell_type": "code",
   "execution_count": 34,
   "id": "9f92c68d",
   "metadata": {
    "id": "9f92c68d"
   },
   "outputs": [],
   "source": [
    "board.player1.savemodel(\"model_p1.keras\")\n",
    "board.player2.savemodel(\"model_p2.keras\")"
   ]
  },
  {
   "cell_type": "code",
   "execution_count": 35,
   "id": "b7e48ad7",
   "metadata": {
    "id": "b7e48ad7"
   },
   "outputs": [],
   "source": [
    "player3 = DQNAgent(1,n=6, eps_decay = False, start_exp_rate=0, end_exp_rate=0)"
   ]
  },
  {
   "cell_type": "code",
   "execution_count": 36,
   "id": "343237e2",
   "metadata": {
    "id": "343237e2"
   },
   "outputs": [],
   "source": [
    "player3.loadSVNNmodel(\"model_p1.keras\")"
   ]
  },
  {
   "cell_type": "code",
   "execution_count": 38,
   "id": "e3a9086d",
   "metadata": {
    "id": "e3a9086d"
   },
   "outputs": [],
   "source": [
    "player3 = DQNAgent(1,n=6, eps_decay = False, start_exp_rate=0, end_exp_rate=0)\n",
    "player3.loadSVNNmodel(\"model_p1.keras\")\n",
    "player4=DQNAgent(-1,n=6,eps_decay=False,start_exp_rate=1,end_exp_rate=0)"
   ]
  },
  {
   "cell_type": "code",
   "execution_count": 39,
   "id": "2e21c72c",
   "metadata": {
    "id": "2e21c72c"
   },
   "outputs": [],
   "source": [
    "board = Board(player3, player4, n=6)"
   ]
  },
  {
   "cell_type": "code",
   "execution_count": 40,
   "id": "39889d52",
   "metadata": {
    "colab": {
     "base_uri": "https://localhost:8080/"
    },
    "id": "39889d52",
    "outputId": "86632e4c-8e73-4513-aedc-a7be5bbadc41"
   },
   "outputs": [
    {
     "name": "stdout",
     "output_type": "stream",
     "text": [
      "Rounds 0\n",
      "Round 0 in the batch of 10 games: Player 1 wins 9, Player 2 wins 1, Draws 0\n",
      "Rounds 0\n",
      "Round 1 in the batch of 10 games: Player 1 wins 4, Player 2 wins 5, Draws 1\n",
      "Rounds 0\n",
      "Round 2 in the batch of 10 games: Player 1 wins 8, Player 2 wins 2, Draws 0\n",
      "Rounds 0\n",
      "Round 3 in the batch of 10 games: Player 1 wins 7, Player 2 wins 3, Draws 0\n",
      "Rounds 0\n",
      "Round 4 in the batch of 10 games: Player 1 wins 5, Player 2 wins 4, Draws 1\n",
      "Rounds 0\n",
      "Round 5 in the batch of 10 games: Player 1 wins 5, Player 2 wins 4, Draws 1\n",
      "Rounds 0\n",
      "Round 6 in the batch of 10 games: Player 1 wins 6, Player 2 wins 4, Draws 0\n",
      "Rounds 0\n",
      "Round 7 in the batch of 10 games: Player 1 wins 7, Player 2 wins 2, Draws 1\n",
      "Rounds 0\n",
      "Round 8 in the batch of 10 games: Player 1 wins 7, Player 2 wins 3, Draws 0\n",
      "Rounds 0\n",
      "Round 9 in the batch of 10 games: Player 1 wins 5, Player 2 wins 5, Draws 0\n"
     ]
    }
   ],
   "source": [
    "rounds = 1000\n",
    "for i in range(10):\n",
    "    result = board.play(rounds)\n",
    "    player1_wins = result.count(1)\n",
    "    player2_wins = result.count(-1)\n",
    "    draws = result.count(0)\n",
    "    \n",
    "    player1_win_percentage = (player1_wins / rounds) * 100\n",
    "    player2_win_percentage = (player2_wins / rounds) * 100\n",
    "    draw_percentage = (draws / rounds) * 100\n",
    "    \n",
    "    print(\"Round {} in the batch of 1000 games: Player 1 wins {:.2f}%, Player 2 wins {:.2f}%, Draws {:.2f}%\".format(\n",
    "        i,\n",
    "        player1_win_percentage,\n",
    "        player2_win_percentage,\n",
    "        draw_percentage\n",
    "    ))\n"
   ]
  },
  {
   "cell_type": "code",
   "execution_count": 43,
   "id": "da0e8e3c",
   "metadata": {
    "id": "da0e8e3c"
   },
   "outputs": [],
   "source": [
    "player5 = DQNAgent(1, n=6, eps_decay=False, start_exp_rate=1, end_exp_rate=0)\n",
    "\n",
    "player6 = DQNAgent(-1, n=6, eps_decay=False, start_exp_rate=0, end_exp_rate=0)\n",
    "player5.loadSVNNmodel(\"model_p2.keras\")"
   ]
  },
  {
   "cell_type": "code",
   "execution_count": null,
   "id": "a37ba21f",
   "metadata": {
    "colab": {
     "base_uri": "https://localhost:8080/"
    },
    "id": "a37ba21f",
    "outputId": "51813e6c-6a8c-457e-e939-5d7d0e422fdc"
   },
   "outputs": [
    {
     "name": "stdout",
     "output_type": "stream",
     "text": [
      "Rounds 0\n",
      "Round 0 in the batch of 10 games: Player 1 wins 3, Player 2 wins 7, Draws 0\n",
      "Rounds 0\n",
      "Round 1 in the batch of 10 games: Player 1 wins 3, Player 2 wins 5, Draws 2\n",
      "Rounds 0\n",
      "Round 2 in the batch of 10 games: Player 1 wins 4, Player 2 wins 6, Draws 0\n",
      "Rounds 0\n",
      "Round 3 in the batch of 10 games: Player 1 wins 2, Player 2 wins 5, Draws 3\n",
      "Rounds 0\n",
      "Round 4 in the batch of 10 games: Player 1 wins 3, Player 2 wins 6, Draws 1\n",
      "Rounds 0\n",
      "Round 5 in the batch of 10 games: Player 1 wins 2, Player 2 wins 7, Draws 1\n",
      "Rounds 0\n",
      "Round 6 in the batch of 10 games: Player 1 wins 4, Player 2 wins 6, Draws 0\n",
      "Rounds 0\n",
      "Round 7 in the batch of 10 games: Player 1 wins 4, Player 2 wins 6, Draws 0\n",
      "Rounds 0\n",
      "Round 8 in the batch of 10 games: Player 1 wins 5, Player 2 wins 5, Draws 0\n",
      "Rounds 0\n"
     ]
    }
   ],
   "source": [
    "board = Board(player5, player6, n=6)\n",
    "rounds = 1000\n",
    "for i in range(10):\n",
    "    result = board.play(rounds)\n",
    "    player1_wins = result.count(1)\n",
    "    player2_wins = result.count(-1)\n",
    "    draws = result.count(0)\n",
    "    \n",
    "    player1_win_percentage = (player1_wins / rounds) * 100\n",
    "    player2_win_percentage = (player2_wins / rounds) * 100\n",
    "    draw_percentage = (draws / rounds) * 100\n",
    "    \n",
    "    print(\"Round {} in the batch of 1000 games: Player 1 wins {:.2f}%, Player 2 wins {:.2f}%, Draws {:.2f}%\".format(\n",
    "        i,\n",
    "        player1_win_percentage,\n",
    "        player2_win_percentage,\n",
    "        draw_percentage\n",
    "    ))\n"
   ]
  },
  {
   "cell_type": "code",
   "execution_count": null,
   "id": "f49b6503",
   "metadata": {
    "id": "f49b6503"
   },
   "outputs": [],
   "source": []
  },
  {
   "cell_type": "code",
   "execution_count": null,
   "id": "f6b2594e",
   "metadata": {
    "id": "f6b2594e"
   },
   "outputs": [],
   "source": []
  },
  {
   "cell_type": "code",
   "execution_count": null,
   "id": "7ced4b1b",
   "metadata": {
    "id": "7ced4b1b"
   },
   "outputs": [],
   "source": []
  },
  {
   "cell_type": "code",
   "execution_count": null,
   "id": "773fbe17",
   "metadata": {
    "id": "773fbe17"
   },
   "outputs": [],
   "source": []
  },
  {
   "cell_type": "code",
   "execution_count": null,
   "id": "b239fdc8",
   "metadata": {
    "id": "b239fdc8"
   },
   "outputs": [],
   "source": []
  }
 ],
 "metadata": {
  "colab": {
   "provenance": []
  },
  "kernelspec": {
   "display_name": "Python 3 (ipykernel)",
   "language": "python",
   "name": "python3"
  },
  "language_info": {
   "codemirror_mode": {
    "name": "ipython",
    "version": 3
   },
   "file_extension": ".py",
   "mimetype": "text/x-python",
   "name": "python",
   "nbconvert_exporter": "python",
   "pygments_lexer": "ipython3",
   "version": "3.11.5"
  }
 },
 "nbformat": 4,
 "nbformat_minor": 5
}
